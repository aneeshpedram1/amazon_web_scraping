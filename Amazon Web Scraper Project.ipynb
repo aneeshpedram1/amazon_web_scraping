{
 "cells": [
  {
   "cell_type": "code",
   "execution_count": 4,
   "id": "3e11a44a",
   "metadata": {},
   "outputs": [],
   "source": [
    "### importing libraries\n",
    "\n",
    "from bs4 import BeautifulSoup\n",
    "import requests\n",
    "import time\n",
    "import datetime\n",
    "import csv"
   ]
  },
  {
   "cell_type": "code",
   "execution_count": 10,
   "id": "db47b6ff",
   "metadata": {},
   "outputs": [],
   "source": [
    "# creating a metod to scrape data from the web\n",
    "def check_price() :\n",
    "    URL = 'https://www.amazon.in/Apple-iPhone-Pro-Max-256/dp/B0CHX68YG9/ref=sr_1_1_sspa?crid=GGQ89UZ1A2H8&keywords=iphone%2B15%2Bpro%2Bmax&qid=1701166354&sprefix=iphone%2B15%2Bpro%2Bm%2Caps%2C194&sr=8-1-spons&sp_csd=d2lkZ2V0TmFtZT1zcF9hdGY&th=1'\n",
    "\n",
    "    headers = {'User-Agent' : \"Mozilla/5.0 (Macintosh; Intel Mac OS X 10_15_7) AppleWebKit/537.36 (KHTML, like Gecko) Chrome/118.0.0.0 Safari/537.36\"}\n",
    "\n",
    "    page = requests.get(URL, headers = headers)\n",
    "\n",
    "    soup1 = BeautifulSoup(page.content, \"html.parser\")\n",
    "    \n",
    "    soup2 = BeautifulSoup(soup1.prettify(), \"html.parser\")\n",
    "    \n",
    "    title = soup2.find(id = 'productTitle').get_text()\n",
    "    \n",
    "    title = title.strip()\n",
    "\n",
    "    price = soup2.find('span', {'class' : 'a-price-whole'}).get_text()\n",
    "    \n",
    "    final_price = ''\n",
    "    \n",
    "    for i in price :\n",
    "        if i.isdigit() :\n",
    "            final_price += i\n",
    "            \n",
    "    price = int(final_price)\n",
    "    \n",
    "    title = title.strip()\n",
    "\n",
    "    today = datetime.date.today()\n",
    "    \n",
    "    data = [title, price, today]\n",
    "    \n",
    "    with open(\"AmazonWebScraperDataset.csv\", 'a+', newline = '', encoding = 'UTF8') as f : \n",
    "        writer = csv.writer(f)\n",
    "        writer.writerow(data)\n",
    "        \n",
    "\n",
    "    "
   ]
  },
  {
   "cell_type": "code",
   "execution_count": null,
   "id": "cddbf6db",
   "metadata": {},
   "outputs": [],
   "source": [
    "# creating a csv files with appropriate column headers\n",
    "import csv\n",
    "header = ['Title', 'Price', 'Date']\n",
    "with open(\"AmazonWebScraperDataset.csv\", 'w', newline = '', encoding = 'UTF8') as f : \n",
    "    writer = csv.writer(f)\n",
    "    writer.writerow(header)\n",
    "\n",
    "# using time module to periodically automate the running of the cell\n",
    "while(True) :\n",
    "    check_price()\n",
    "    time.sleep(5)"
   ]
  },
  {
   "cell_type": "code",
   "execution_count": 14,
   "id": "a17d16a9",
   "metadata": {},
   "outputs": [
    {
     "name": "stdout",
     "output_type": "stream",
     "text": [
      "                                               Title   Price        Date\n",
      "0  Apple iPhone 15 Pro Max (256 GB) - Natural Tit...  159900  2023-12-01\n",
      "1  Apple iPhone 15 Pro Max (256 GB) - Natural Tit...  159900  2023-12-01\n",
      "2  Apple iPhone 15 Pro Max (256 GB) - Natural Tit...  159900  2023-12-01\n"
     ]
    }
   ],
   "source": [
    "# printing the data collected in the csv file\n",
    "import pandas as pd\n",
    "\n",
    "df = pd.read_csv(r'/Users/aneeshpedram/AmazonWebScraperDataset.csv')\n",
    "\n",
    "print(df)"
   ]
  }
 ],
 "metadata": {
  "kernelspec": {
   "display_name": "Python 3 (ipykernel)",
   "language": "python",
   "name": "python3"
  },
  "language_info": {
   "codemirror_mode": {
    "name": "ipython",
    "version": 3
   },
   "file_extension": ".py",
   "mimetype": "text/x-python",
   "name": "python",
   "nbconvert_exporter": "python",
   "pygments_lexer": "ipython3",
   "version": "3.11.5"
  }
 },
 "nbformat": 4,
 "nbformat_minor": 5
}
